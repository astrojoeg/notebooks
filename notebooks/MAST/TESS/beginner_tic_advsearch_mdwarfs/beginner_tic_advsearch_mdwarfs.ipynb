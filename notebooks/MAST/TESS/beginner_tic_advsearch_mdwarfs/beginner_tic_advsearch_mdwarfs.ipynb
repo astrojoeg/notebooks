{
 "cells": [
  {
   "cell_type": "markdown",
   "metadata": {},
   "source": [
    "<a id=\"title_ID\"></a>\n",
    "# Beginner: Find High Proper Motion M Dwarfs In The Southern Hemisphere From the TIC.\n",
    "\n",
    "This notebook tutorial demonstrates how to do a pre-filtered search in the TESS Input Catalog.  Specifically, we will be filtering on temperature, proper motion, and declination before doing our search.  This tutorial uses Python and the astroquery module.  Information on how to install astroquery for MAST can be found on the [Astroquery site](http://astroquery.readthedocs.io/)."
   ]
  },
  {
   "cell_type": "code",
   "execution_count": null,
   "metadata": {},
   "outputs": [],
   "source": [
    "from astroquery.mast import Catalogs"
   ]
  },
  {
   "cell_type": "markdown",
   "metadata": {},
   "source": [
    "## Setup The Search Parameters\n",
    "\n",
    "Let's start by defining the constraints we want to use in our search of the TIC."
   ]
  },
  {
   "cell_type": "code",
   "execution_count": null,
   "metadata": {},
   "outputs": [],
   "source": [
    "# Set min. and max. effective temperatures for the stars we want to search for.\n",
    "teff_min = 2000.\n",
    "teff_max = 3500.\n",
    "\n",
    "# We want relatively high proper motions.  For the purposes of this tutorial, let's just look for things that have\n",
    "# proper motions in both right ascension and declination greater than 100 milliarcseconds.\n",
    "pmra_min = 100.\n",
    "pmdec_min = 100.\n",
    "\n",
    "# We want southern hemisphere targets, so limit our search to things below 0 degrees declination.\n",
    "dec_max = 0."
   ]
  },
  {
   "cell_type": "markdown",
   "metadata": {},
   "source": [
    "# Astroquery \"Advanced\" (Catalog Criteria) Search\n",
    "\n",
    "We will now use the Catalogs `query_criteria` function to do a search with constraints placed on available columns.  The function can accept constraints on multiple columns, including number ranges for numeric columns and wildcard matching for string columns.  The columns available to query in the TIC through `query_criteria` are documented [here](https://mast.stsci.edu/api/v0/_t_i_cfields.html) (you'll want to specify them based on the Column Name on that page).  You can find documentation for it on [this page](https://astroquery.readthedocs.io/en/latest/mast/mast.html#catalog-criteria-queries).  Don't forget to specify which of the available catalogs you want to query!  For us, it will be \"TIC\".  WARNING: Be sure to match capitalization of parameters and catalog names exactly as they are documented!\n",
    "\n",
    "In the second line,  we print out the numbers of returned rows."
   ]
  },
  {
   "cell_type": "code",
   "execution_count": null,
   "metadata": {},
   "outputs": [],
   "source": [
    "# Query the TESS Input Catalog looking for southern M dwarfs.\n",
    "catalogTIC = Catalogs.query_criteria(dec=[-90., dec_max], Teff=[teff_min, teff_max], pmRA=[pmra_min, 9999.],\n",
    "                                     pmDEC=[pmdec_min, 9999.], catalog=\"Tic\")\n",
    "\n",
    "# Print out the number of returned rows.\n",
    "print(\"Number of TIC objects that satisfy our criteria: %u\" % (len(catalogTIC)))"
   ]
  },
  {
   "cell_type": "markdown",
   "metadata": {},
   "source": [
    "## Examine The Returned Table\n",
    "\n",
    "Let's take a look at the table returned from the query.  We see the returned object is an astropy Table.  We can also examine the columns available."
   ]
  },
  {
   "cell_type": "code",
   "execution_count": null,
   "metadata": {},
   "outputs": [],
   "source": [
    "# What type of objects is the returned result?\n",
    "print(type(catalogTIC))"
   ]
  },
  {
   "cell_type": "code",
   "execution_count": null,
   "metadata": {},
   "outputs": [],
   "source": [
    "# What columns are available from the TIC?\n",
    "print(catalogTIC.columns)"
   ]
  },
  {
   "cell_type": "markdown",
   "metadata": {},
   "source": [
    "## About this Notebook\n",
    "\n",
    "**Author:** Scott W. Fleming, STScI Archive Scientist\n",
    "\n",
    "**Updated On:** 2018-11-30"
   ]
  },
  {
   "cell_type": "markdown",
   "metadata": {},
   "source": [
    "[Top of Page](#title_ID)\n",
    "<img style=\"float: right;\" src=\"./stsci_pri_combo_mark_horizonal_white_bkgd.png\" alt=\"stsci_pri_combo_mark_horizonal_white_bkgd\" width=\"200px\"/> "
   ]
  }
 ],
 "metadata": {
  "kernelspec": {
   "display_name": "Python 3",
   "language": "python",
   "name": "python3"
  },
  "language_info": {
   "codemirror_mode": {
    "name": "ipython",
    "version": 3
   },
   "file_extension": ".py",
   "mimetype": "text/x-python",
   "name": "python",
   "nbconvert_exporter": "python",
   "pygments_lexer": "ipython3",
   "version": "3.6.7"
  }
 },
 "nbformat": 4,
 "nbformat_minor": 2
}
